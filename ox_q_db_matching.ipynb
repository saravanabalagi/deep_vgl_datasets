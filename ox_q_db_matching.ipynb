{
 "cells": [
  {
   "cell_type": "code",
   "execution_count": 32,
   "metadata": {},
   "outputs": [],
   "source": [
    "import json\n",
    "import pandas as pd\n",
    "import numpy as np\n",
    "import os\n",
    "from tqdm import tqdm\n",
    "from scipy.spatial import distance\n",
    "from multiprocessing import Pool\n",
    "from ipywidgets import interactive, widgets"
   ]
  },
  {
   "cell_type": "code",
   "execution_count": 33,
   "metadata": {},
   "outputs": [
    {
     "data": {
      "application/vnd.jupyter.widget-view+json": {
       "model_id": "27ba27a1f52447afbe3d4f70b43eb541",
       "version_major": 2,
       "version_minor": 0
      },
      "text/plain": [
       "interactive(children=(Dropdown(description='d', options=('sd2wd', 'wd2wn'), value='sd2wd'), Output()), _dom_cl…"
      ]
     },
     "metadata": {},
     "output_type": "display_data"
    }
   ],
   "source": [
    "ox_dir = 'data/oxford_robotcar'\n",
    "datasets = ['sd2wd', 'wd2wn']\n",
    "\n",
    "def select_dataset(d=datasets):\n",
    "    return d\n",
    "\n",
    "dataset_selected = interactive(select_dataset, dataset_selected=datasets)\n",
    "display(dataset_selected)"
   ]
  },
  {
   "cell_type": "code",
   "execution_count": 55,
   "metadata": {},
   "outputs": [
    {
     "data": {
      "text/plain": [
       "'wd2wn'"
      ]
     },
     "execution_count": 55,
     "metadata": {},
     "output_type": "execute_result"
    }
   ],
   "source": [
    "dataset = dataset_selected.result\n",
    "dataset"
   ]
  },
  {
   "cell_type": "code",
   "execution_count": 56,
   "metadata": {},
   "outputs": [],
   "source": [
    "if dataset == 'sd2wd':\n",
    "    route_1 = '2015-05-19-14-06-38'  # summer (day)\n",
    "    route_2 = '2014-12-09-13-21-02'  # winter (day)\n",
    "elif dataset == 'wd2wn':\n",
    "    route_1 = '2014-12-09-13-21-02'  # winter (day)\n",
    "    route_2 = '2014-12-10-18-10-50'  # winter (night)"
   ]
  },
  {
   "cell_type": "markdown",
   "metadata": {},
   "source": [
    "## Load pose files"
   ]
  },
  {
   "cell_type": "code",
   "execution_count": 57,
   "metadata": {},
   "outputs": [
    {
     "data": {
      "text/html": [
       "<div>\n",
       "<style scoped>\n",
       "    .dataframe tbody tr th:only-of-type {\n",
       "        vertical-align: middle;\n",
       "    }\n",
       "\n",
       "    .dataframe tbody tr th {\n",
       "        vertical-align: top;\n",
       "    }\n",
       "\n",
       "    .dataframe thead th {\n",
       "        text-align: right;\n",
       "    }\n",
       "</style>\n",
       "<table border=\"1\" class=\"dataframe\">\n",
       "  <thead>\n",
       "    <tr style=\"text-align: right;\">\n",
       "      <th></th>\n",
       "      <th>timestamp</th>\n",
       "      <th>ins_status</th>\n",
       "      <th>latitude</th>\n",
       "      <th>longitude</th>\n",
       "      <th>altitude</th>\n",
       "      <th>northing</th>\n",
       "      <th>easting</th>\n",
       "      <th>down</th>\n",
       "      <th>utm_zone</th>\n",
       "      <th>velocity_north</th>\n",
       "      <th>velocity_east</th>\n",
       "      <th>velocity_down</th>\n",
       "      <th>roll</th>\n",
       "      <th>pitch</th>\n",
       "      <th>yaw</th>\n",
       "      <th>imgs</th>\n",
       "    </tr>\n",
       "  </thead>\n",
       "  <tbody>\n",
       "    <tr>\n",
       "      <th>0</th>\n",
       "      <td>1.418132e+09</td>\n",
       "      <td>INS_SOLUTION_GOOD</td>\n",
       "      <td>51.760857</td>\n",
       "      <td>-1.261838</td>\n",
       "      <td>107.090348</td>\n",
       "      <td>5.735870e+06</td>\n",
       "      <td>619956.293047</td>\n",
       "      <td>-107.090348</td>\n",
       "      <td>30U</td>\n",
       "      <td>-0.041037</td>\n",
       "      <td>-0.021394</td>\n",
       "      <td>-0.016622</td>\n",
       "      <td>4.667142</td>\n",
       "      <td>0.163579</td>\n",
       "      <td>203.716078</td>\n",
       "      <td>{\"stereoCentre\":\"1418132416737115.jpg\"}</td>\n",
       "    </tr>\n",
       "    <tr>\n",
       "      <th>1</th>\n",
       "      <td>1.418132e+09</td>\n",
       "      <td>INS_SOLUTION_GOOD</td>\n",
       "      <td>51.760857</td>\n",
       "      <td>-1.261838</td>\n",
       "      <td>107.090382</td>\n",
       "      <td>5.735870e+06</td>\n",
       "      <td>619956.293004</td>\n",
       "      <td>-107.090382</td>\n",
       "      <td>30U</td>\n",
       "      <td>-0.040689</td>\n",
       "      <td>-0.021555</td>\n",
       "      <td>-0.016628</td>\n",
       "      <td>4.667242</td>\n",
       "      <td>0.163363</td>\n",
       "      <td>203.716131</td>\n",
       "      <td>{\"stereoCentre\":\"1418132416799606.jpg\"}</td>\n",
       "    </tr>\n",
       "    <tr>\n",
       "      <th>2</th>\n",
       "      <td>1.418132e+09</td>\n",
       "      <td>INS_SOLUTION_GOOD</td>\n",
       "      <td>51.760857</td>\n",
       "      <td>-1.261838</td>\n",
       "      <td>107.090416</td>\n",
       "      <td>5.735870e+06</td>\n",
       "      <td>619956.292960</td>\n",
       "      <td>-107.090416</td>\n",
       "      <td>30U</td>\n",
       "      <td>-0.040342</td>\n",
       "      <td>-0.021716</td>\n",
       "      <td>-0.016635</td>\n",
       "      <td>4.667341</td>\n",
       "      <td>0.163147</td>\n",
       "      <td>203.716184</td>\n",
       "      <td>{\"stereoCentre\":\"1418132416862098.jpg\"}</td>\n",
       "    </tr>\n",
       "    <tr>\n",
       "      <th>3</th>\n",
       "      <td>1.418132e+09</td>\n",
       "      <td>INS_SOLUTION_GOOD</td>\n",
       "      <td>51.760857</td>\n",
       "      <td>-1.261838</td>\n",
       "      <td>107.090450</td>\n",
       "      <td>5.735870e+06</td>\n",
       "      <td>619956.292917</td>\n",
       "      <td>-107.090450</td>\n",
       "      <td>30U</td>\n",
       "      <td>-0.039994</td>\n",
       "      <td>-0.021877</td>\n",
       "      <td>-0.016641</td>\n",
       "      <td>4.667440</td>\n",
       "      <td>0.162930</td>\n",
       "      <td>203.716236</td>\n",
       "      <td>{\"stereoCentre\":\"1418132416924588.jpg\"}</td>\n",
       "    </tr>\n",
       "    <tr>\n",
       "      <th>4</th>\n",
       "      <td>1.418132e+09</td>\n",
       "      <td>INS_SOLUTION_GOOD</td>\n",
       "      <td>51.760857</td>\n",
       "      <td>-1.261838</td>\n",
       "      <td>107.090484</td>\n",
       "      <td>5.735870e+06</td>\n",
       "      <td>619956.292874</td>\n",
       "      <td>-107.090484</td>\n",
       "      <td>30U</td>\n",
       "      <td>-0.039647</td>\n",
       "      <td>-0.022039</td>\n",
       "      <td>-0.016648</td>\n",
       "      <td>4.667540</td>\n",
       "      <td>0.162714</td>\n",
       "      <td>203.716289</td>\n",
       "      <td>{\"stereoCentre\":\"1418132416987080.jpg\"}</td>\n",
       "    </tr>\n",
       "    <tr>\n",
       "      <th>...</th>\n",
       "      <td>...</td>\n",
       "      <td>...</td>\n",
       "      <td>...</td>\n",
       "      <td>...</td>\n",
       "      <td>...</td>\n",
       "      <td>...</td>\n",
       "      <td>...</td>\n",
       "      <td>...</td>\n",
       "      <td>...</td>\n",
       "      <td>...</td>\n",
       "      <td>...</td>\n",
       "      <td>...</td>\n",
       "      <td>...</td>\n",
       "      <td>...</td>\n",
       "      <td>...</td>\n",
       "      <td>...</td>\n",
       "    </tr>\n",
       "    <tr>\n",
       "      <th>34123</th>\n",
       "      <td>1.418135e+09</td>\n",
       "      <td>INS_SOLUTION_GOOD</td>\n",
       "      <td>51.760857</td>\n",
       "      <td>-1.261756</td>\n",
       "      <td>108.302249</td>\n",
       "      <td>5.735870e+06</td>\n",
       "      <td>619961.947757</td>\n",
       "      <td>-108.302249</td>\n",
       "      <td>30U</td>\n",
       "      <td>0.012106</td>\n",
       "      <td>-0.056558</td>\n",
       "      <td>-0.001496</td>\n",
       "      <td>0.340942</td>\n",
       "      <td>-0.262347</td>\n",
       "      <td>293.019973</td>\n",
       "      <td>{\"stereoCentre\":\"1418134776790489.jpg\"}</td>\n",
       "    </tr>\n",
       "    <tr>\n",
       "      <th>34124</th>\n",
       "      <td>1.418135e+09</td>\n",
       "      <td>INS_SOLUTION_GOOD</td>\n",
       "      <td>51.760857</td>\n",
       "      <td>-1.261756</td>\n",
       "      <td>108.302306</td>\n",
       "      <td>5.735870e+06</td>\n",
       "      <td>619961.944299</td>\n",
       "      <td>-108.302306</td>\n",
       "      <td>30U</td>\n",
       "      <td>0.012250</td>\n",
       "      <td>-0.053507</td>\n",
       "      <td>-0.000544</td>\n",
       "      <td>0.338102</td>\n",
       "      <td>-0.263818</td>\n",
       "      <td>293.020292</td>\n",
       "      <td>{\"stereoCentre\":\"1418134776852978.jpg\"}</td>\n",
       "    </tr>\n",
       "    <tr>\n",
       "      <th>34125</th>\n",
       "      <td>1.418135e+09</td>\n",
       "      <td>INS_SOLUTION_GOOD</td>\n",
       "      <td>51.760857</td>\n",
       "      <td>-1.261756</td>\n",
       "      <td>108.302380</td>\n",
       "      <td>5.735870e+06</td>\n",
       "      <td>619961.941028</td>\n",
       "      <td>-108.302380</td>\n",
       "      <td>30U</td>\n",
       "      <td>0.011096</td>\n",
       "      <td>-0.051250</td>\n",
       "      <td>-0.002252</td>\n",
       "      <td>0.337151</td>\n",
       "      <td>-0.265226</td>\n",
       "      <td>293.019971</td>\n",
       "      <td>{\"stereoCentre\":\"1418134776915469.jpg\"}</td>\n",
       "    </tr>\n",
       "    <tr>\n",
       "      <th>34126</th>\n",
       "      <td>1.418135e+09</td>\n",
       "      <td>INS_SOLUTION_GOOD</td>\n",
       "      <td>51.760857</td>\n",
       "      <td>-1.261756</td>\n",
       "      <td>108.302600</td>\n",
       "      <td>5.735870e+06</td>\n",
       "      <td>619961.937775</td>\n",
       "      <td>-108.302600</td>\n",
       "      <td>30U</td>\n",
       "      <td>0.009921</td>\n",
       "      <td>-0.052876</td>\n",
       "      <td>-0.004582</td>\n",
       "      <td>0.340401</td>\n",
       "      <td>-0.267837</td>\n",
       "      <td>293.019599</td>\n",
       "      <td>{\"stereoCentre\":\"1418134776977960.jpg\"}</td>\n",
       "    </tr>\n",
       "    <tr>\n",
       "      <th>34127</th>\n",
       "      <td>1.418135e+09</td>\n",
       "      <td>INS_SOLUTION_GOOD</td>\n",
       "      <td>51.760857</td>\n",
       "      <td>-1.261756</td>\n",
       "      <td>108.302893</td>\n",
       "      <td>5.735870e+06</td>\n",
       "      <td>619961.934343</td>\n",
       "      <td>-108.302893</td>\n",
       "      <td>30U</td>\n",
       "      <td>0.009279</td>\n",
       "      <td>-0.056258</td>\n",
       "      <td>-0.004115</td>\n",
       "      <td>0.344185</td>\n",
       "      <td>-0.268266</td>\n",
       "      <td>293.019185</td>\n",
       "      <td>{\"stereoCentre\":\"1418134777040447.jpg\"}</td>\n",
       "    </tr>\n",
       "  </tbody>\n",
       "</table>\n",
       "<p>34128 rows × 16 columns</p>\n",
       "</div>"
      ],
      "text/plain": [
       "          timestamp         ins_status   latitude  longitude    altitude  \\\n",
       "0      1.418132e+09  INS_SOLUTION_GOOD  51.760857  -1.261838  107.090348   \n",
       "1      1.418132e+09  INS_SOLUTION_GOOD  51.760857  -1.261838  107.090382   \n",
       "2      1.418132e+09  INS_SOLUTION_GOOD  51.760857  -1.261838  107.090416   \n",
       "3      1.418132e+09  INS_SOLUTION_GOOD  51.760857  -1.261838  107.090450   \n",
       "4      1.418132e+09  INS_SOLUTION_GOOD  51.760857  -1.261838  107.090484   \n",
       "...             ...                ...        ...        ...         ...   \n",
       "34123  1.418135e+09  INS_SOLUTION_GOOD  51.760857  -1.261756  108.302249   \n",
       "34124  1.418135e+09  INS_SOLUTION_GOOD  51.760857  -1.261756  108.302306   \n",
       "34125  1.418135e+09  INS_SOLUTION_GOOD  51.760857  -1.261756  108.302380   \n",
       "34126  1.418135e+09  INS_SOLUTION_GOOD  51.760857  -1.261756  108.302600   \n",
       "34127  1.418135e+09  INS_SOLUTION_GOOD  51.760857  -1.261756  108.302893   \n",
       "\n",
       "           northing        easting        down utm_zone  velocity_north  \\\n",
       "0      5.735870e+06  619956.293047 -107.090348      30U       -0.041037   \n",
       "1      5.735870e+06  619956.293004 -107.090382      30U       -0.040689   \n",
       "2      5.735870e+06  619956.292960 -107.090416      30U       -0.040342   \n",
       "3      5.735870e+06  619956.292917 -107.090450      30U       -0.039994   \n",
       "4      5.735870e+06  619956.292874 -107.090484      30U       -0.039647   \n",
       "...             ...            ...         ...      ...             ...   \n",
       "34123  5.735870e+06  619961.947757 -108.302249      30U        0.012106   \n",
       "34124  5.735870e+06  619961.944299 -108.302306      30U        0.012250   \n",
       "34125  5.735870e+06  619961.941028 -108.302380      30U        0.011096   \n",
       "34126  5.735870e+06  619961.937775 -108.302600      30U        0.009921   \n",
       "34127  5.735870e+06  619961.934343 -108.302893      30U        0.009279   \n",
       "\n",
       "       velocity_east  velocity_down      roll     pitch         yaw  \\\n",
       "0          -0.021394      -0.016622  4.667142  0.163579  203.716078   \n",
       "1          -0.021555      -0.016628  4.667242  0.163363  203.716131   \n",
       "2          -0.021716      -0.016635  4.667341  0.163147  203.716184   \n",
       "3          -0.021877      -0.016641  4.667440  0.162930  203.716236   \n",
       "4          -0.022039      -0.016648  4.667540  0.162714  203.716289   \n",
       "...              ...            ...       ...       ...         ...   \n",
       "34123      -0.056558      -0.001496  0.340942 -0.262347  293.019973   \n",
       "34124      -0.053507      -0.000544  0.338102 -0.263818  293.020292   \n",
       "34125      -0.051250      -0.002252  0.337151 -0.265226  293.019971   \n",
       "34126      -0.052876      -0.004582  0.340401 -0.267837  293.019599   \n",
       "34127      -0.056258      -0.004115  0.344185 -0.268266  293.019185   \n",
       "\n",
       "                                          imgs  \n",
       "0      {\"stereoCentre\":\"1418132416737115.jpg\"}  \n",
       "1      {\"stereoCentre\":\"1418132416799606.jpg\"}  \n",
       "2      {\"stereoCentre\":\"1418132416862098.jpg\"}  \n",
       "3      {\"stereoCentre\":\"1418132416924588.jpg\"}  \n",
       "4      {\"stereoCentre\":\"1418132416987080.jpg\"}  \n",
       "...                                        ...  \n",
       "34123  {\"stereoCentre\":\"1418134776790489.jpg\"}  \n",
       "34124  {\"stereoCentre\":\"1418134776852978.jpg\"}  \n",
       "34125  {\"stereoCentre\":\"1418134776915469.jpg\"}  \n",
       "34126  {\"stereoCentre\":\"1418134776977960.jpg\"}  \n",
       "34127  {\"stereoCentre\":\"1418134777040447.jpg\"}  \n",
       "\n",
       "[34128 rows x 16 columns]"
      ]
     },
     "execution_count": 57,
     "metadata": {},
     "output_type": "execute_result"
    }
   ],
   "source": [
    "db_pose_file = os.path.join(ox_dir, route_1, \"gps\", f\"poses.csv\")\n",
    "db_pose_df = pd.read_csv(db_pose_file, comment=\"#\")\n",
    "db_pose_df"
   ]
  },
  {
   "cell_type": "code",
   "execution_count": 58,
   "metadata": {},
   "outputs": [],
   "source": [
    "q_pose_file = os.path.join(ox_dir, route_2, \"gps\", f\"poses.csv\")\n",
    "q_pose_df = pd.read_csv(q_pose_file, comment=\"#\")"
   ]
  },
  {
   "attachments": {},
   "cell_type": "markdown",
   "metadata": {},
   "source": [
    "## Filter close poses\n",
    "\n",
    "Filter out poses that are too close to each other."
   ]
  },
  {
   "cell_type": "code",
   "execution_count": 59,
   "metadata": {},
   "outputs": [
    {
     "name": "stderr",
     "output_type": "stream",
     "text": [
      "100%|██████████| 38315/38315 [00:01<00:00, 24308.69it/s]"
     ]
    },
    {
     "name": "stdout",
     "output_type": "stream",
     "text": [
      "1925 query poses after filtering\n"
     ]
    },
    {
     "name": "stderr",
     "output_type": "stream",
     "text": [
      "\n"
     ]
    }
   ],
   "source": [
    "def filter_close_poses(pose_df, dist_threshold):\n",
    "    pose_df = pose_df.copy()\n",
    "    ix_rejected = set()\n",
    "    for i in tqdm(range(0, len(pose_df))):\n",
    "        if i in ix_rejected:\n",
    "            continue\n",
    "        q = pose_df.iloc[i]\n",
    "        q_utm = q[['northing', 'easting']].to_numpy(dtype=np.float64)\n",
    "        o = pose_df.iloc[i+1:]\n",
    "        o_utms = o[['northing', 'easting']].to_numpy(dtype=np.float64)\n",
    "        dists = distance.cdist([q_utm], o_utms).flatten()\n",
    "        ix_close = np.where(dists < dist_threshold)[0]\n",
    "        ix_close = ix_close + i + 1\n",
    "        ix_rejected.update(ix_close)\n",
    "\n",
    "    return pose_df.drop(ix_rejected)\n",
    "\n",
    "q_pose_df = filter_close_poses(q_pose_df, dist_threshold=4)\n",
    "print(f\"{len(q_pose_df)} query poses after filtering\")\n"
   ]
  },
  {
   "cell_type": "markdown",
   "metadata": {},
   "source": [
    "## Find closest match\n",
    "\n",
    "Find closest matching pair for each query pose"
   ]
  },
  {
   "cell_type": "code",
   "execution_count": 60,
   "metadata": {},
   "outputs": [
    {
     "name": "stderr",
     "output_type": "stream",
     "text": [
      "100%|██████████| 5/5 [00:00<00:00, 224.71it/s]\n"
     ]
    },
    {
     "data": {
      "text/plain": [
       "[(0, 34121), (1, 34121), (2, 34121), (3, 34127), (4, 61)]"
      ]
     },
     "execution_count": 60,
     "metadata": {},
     "output_type": "execute_result"
    }
   ],
   "source": [
    "t_dist = 30\n",
    "# t_angle = 30\n",
    "pairs = []\n",
    "\n",
    "def get_closest_pose(q_i):\n",
    "    q = q_pose_df.iloc[q_i]\n",
    "    q_utm = q[['northing', 'easting']].to_numpy(dtype=np.float64)\n",
    "    q_yaw = q['yaw']\n",
    "\n",
    "    # angles = np.abs(q_yaw - db_pose_df['yaw'])\n",
    "    # valid_angles = angles <= t_angle\n",
    "    \n",
    "    db_utms = db_pose_df[['northing', 'easting']].to_numpy(dtype=np.float64)\n",
    "    dists = distance.cdist([q_utm], db_utms).flatten()\n",
    "    valid_dists = dists <= t_dist\n",
    "    valid = valid_dists\n",
    "    # valid = valid_angles & valid_dists\n",
    "\n",
    "    if any(valid):\n",
    "        # loss = (0.5 * dists) + (angles)\n",
    "        loss = dists\n",
    "        db_i = loss.argmin()\n",
    "        return (q_i, db_i)\n",
    "\n",
    "    return None\n",
    "\n",
    "q_len = 5\n",
    "# q_len = len(q_pose_df)\n",
    "for q_i in tqdm(range(q_len), total=q_len):\n",
    "    pairs_ret = get_closest_pose(q_i)\n",
    "    if pairs_ret is not None:\n",
    "        pairs.append(pairs_ret)\n",
    "\n",
    "pairs"
   ]
  },
  {
   "cell_type": "code",
   "execution_count": 61,
   "metadata": {},
   "outputs": [
    {
     "name": "stderr",
     "output_type": "stream",
     "text": [
      "100%|██████████| 1925/1925 [00:00<00:00, 6159.17it/s]\n"
     ]
    }
   ],
   "source": [
    "threads = 8\n",
    "q_len = len(q_pose_df)\n",
    "\n",
    "with Pool(threads) as p:\n",
    "    pairs_ret_list = list(tqdm(p.imap(get_closest_pose, range(q_len)), total=q_len))"
   ]
  },
  {
   "attachments": {},
   "cell_type": "markdown",
   "metadata": {},
   "source": [
    "## Save to disk\n",
    "\n",
    "Filter None matches and save to disk."
   ]
  },
  {
   "cell_type": "code",
   "execution_count": 62,
   "metadata": {},
   "outputs": [],
   "source": [
    "pairs = []\n",
    "for pairs_ret in pairs_ret_list:\n",
    "    if pairs_ret is not None:\n",
    "        pairs.append(pairs_ret)\n"
   ]
  },
  {
   "cell_type": "code",
   "execution_count": 63,
   "metadata": {},
   "outputs": [],
   "source": [
    "pairs = np.array(pairs)\n",
    "q_selected = pairs[:, 0]\n",
    "db_selected = pairs[:, 1]\n",
    "\n",
    "output_dir = os.path.join(ox_dir, f\"{dataset}\")\n",
    "os.makedirs(output_dir, exist_ok=True)\n",
    "q_selected_file = os.path.join(output_dir, f\"q_selected.csv\")\n",
    "db_selected_file = os.path.join(output_dir, f\"db_selected.csv\")\n",
    "\n",
    "with open(db_selected_file, 'w') as f:\n",
    "    print(f\"# Sampled from\", file=f)\n",
    "    print(f\"# Dataset: Oxford Robotcar\", file=f)\n",
    "    print(f\"# Route: {route_1}\", file=f)\n",
    "db_pose_df.iloc[db_selected].to_csv(db_selected_file, index=False, mode='a')\n",
    "\n",
    "with open(q_selected_file, 'w') as f:\n",
    "    print(f\"# Sampled from\", file=f)\n",
    "    print(f\"# Dataset: Oxford Robotcar\", file=f)\n",
    "    print(f\"# Route: {route_2}\", file=f)\n",
    "q_pose_df.iloc[q_selected].to_csv(q_selected_file, index=False, mode='a')"
   ]
  }
 ],
 "metadata": {
  "kernelspec": {
   "display_name": "Python 3 (ipykernel)",
   "language": "python",
   "name": "python3"
  },
  "language_info": {
   "codemirror_mode": {
    "name": "ipython",
    "version": 3
   },
   "file_extension": ".py",
   "mimetype": "text/x-python",
   "name": "python",
   "nbconvert_exporter": "python",
   "pygments_lexer": "ipython3",
   "version": "3.8.15"
  },
  "vscode": {
   "interpreter": {
    "hash": "ce1a1ebbdd65545f653a56d1c4cee494b1f7d1f334357062cd13581576714e07"
   }
  }
 },
 "nbformat": 4,
 "nbformat_minor": 2
}
